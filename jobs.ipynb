{
 "cells": [
  {
   "cell_type": "code",
   "execution_count": 23,
   "metadata": {},
   "outputs": [
    {
     "name": "stdout",
     "output_type": "stream",
     "text": [
      "Requirement already satisfied: gurobipy in /Library/Frameworks/Python.framework/Versions/3.13/lib/python3.13/site-packages (12.0.1)\n",
      "Note: you may need to restart the kernel to use updated packages.\n"
     ]
    }
   ],
   "source": [
    "%pip install gurobipy"
   ]
  },
  {
   "cell_type": "code",
   "execution_count": 24,
   "metadata": {},
   "outputs": [],
   "source": [
    "import gurobipy as gp\n",
    "from gurobipy import GRB"
   ]
  },
  {
   "cell_type": "markdown",
   "metadata": {},
   "source": [
    "Considera una empresa de consultoría que tiene tres vacantes: Tester, Desarrollador y Arquitecto. Los tres mejores candidatos (recursos) para estos puestos son: Carlos, Jose y Monica. La empresa de consultoría realizó unas pruebas a cada candidato para evaluar su capacidad de desarrolar cada uno de los trabajos. \n",
    "\n",
    "Se supone que solo un candidato puede ser asignado a un trabajo y que, como máximo, un trabajo puede ser asignado a un candidato.\n",
    "\n",
    "El problema consiste en determinar una asignación de recursos y trabajos de manera que cada trabajo sea cubierto, cada recurso sea asignado a lo sumo a un trabajo, y la suma total de las puntuaciones de coincidencia de las asignaciones sea maximizada."
   ]
  },
  {
   "cell_type": "markdown",
   "metadata": {},
   "source": [
    "\n",
    "![scores](matching_score_data.PNG)"
   ]
  },
  {
   "cell_type": "code",
   "execution_count": 25,
   "metadata": {},
   "outputs": [],
   "source": [
    "# Resource and job sets\n",
    "Candidatos = ['Carlos', 'Jose', 'Monica']\n",
    "Trabajos = ['Tester', 'Desarrollador', 'Arquitecto']"
   ]
  },
  {
   "cell_type": "code",
   "execution_count": 26,
   "metadata": {},
   "outputs": [],
   "source": [
    "# Matching score data\n",
    "combinations, scores = gp.multidict({\n",
    "    ('Carlos', 'Tester'): 53,\n",
    "    ('Carlos', 'Desarrollador'): 27,\n",
    "    ('Carlos', 'Arquitecto'): 13,\n",
    "    ('Jose', 'Tester'): 80,\n",
    "    ('Jose', 'Desarrollador'): 47,\n",
    "    ('Jose', 'Arquitecto'): 67,\n",
    "    ('Monica', 'Tester'): 53,\n",
    "    ('Monica', 'Desarrollador'): 73,\n",
    "    ('Monica', 'Arquitecto'): 47\n",
    "})"
   ]
  },
  {
   "cell_type": "code",
   "execution_count": null,
   "metadata": {},
   "outputs": [],
   "source": [
    "# Declara model\n",
    "m = gp.Model('RAP')"
   ]
  },
  {
   "cell_type": "code",
   "execution_count": null,
   "metadata": {},
   "outputs": [],
   "source": [
    "# Se crean las variables\n",
    "x = m.addVars(combinations, name=\"assign\")"
   ]
  },
  {
   "cell_type": "code",
   "execution_count": null,
   "metadata": {},
   "outputs": [
    {
     "data": {
      "text/plain": [
       "{'Tester': <gurobi.Constr *Awaiting Model Update*>,\n",
       " 'Desarrollador': <gurobi.Constr *Awaiting Model Update*>,\n",
       " 'Arquitecto': <gurobi.Constr *Awaiting Model Update*>}"
      ]
     },
     "execution_count": 29,
     "metadata": {},
     "output_type": "execute_result"
    }
   ],
   "source": [
    "# Una única asignación al trabajo\n",
    "m.addConstrs((x.sum('*',j) == 1 for j in Trabajos), name='asignacion_trabajos')"
   ]
  },
  {
   "cell_type": "code",
   "execution_count": 30,
   "metadata": {},
   "outputs": [
    {
     "data": {
      "text/plain": [
       "{'Carlos': <gurobi.Constr *Awaiting Model Update*>,\n",
       " 'Jose': <gurobi.Constr *Awaiting Model Update*>,\n",
       " 'Monica': <gurobi.Constr *Awaiting Model Update*>}"
      ]
     },
     "execution_count": 30,
     "metadata": {},
     "output_type": "execute_result"
    }
   ],
   "source": [
    "# Restricciones de que para cada candidatos se le asigna un único trabajo (como mucho)\n",
    "m.addConstrs((x.sum(r,'*') <= 1 for r in Candidatos), name='como_mucho_un_trabajo')\n"
   ]
  },
  {
   "cell_type": "code",
   "execution_count": 31,
   "metadata": {},
   "outputs": [],
   "source": [
    "# Objetivo a maximizar\n",
    "m.setObjective(x.prod(scores), GRB.MAXIMIZE)\n"
   ]
  },
  {
   "cell_type": "code",
   "execution_count": 32,
   "metadata": {},
   "outputs": [],
   "source": [
    "# Save model for inspection\n",
    "m.write('RAP.lp')\n"
   ]
  },
  {
   "cell_type": "code",
   "execution_count": 33,
   "metadata": {},
   "outputs": [
    {
     "name": "stdout",
     "output_type": "stream",
     "text": [
      "Gurobi Optimizer version 12.0.1 build v12.0.1rc0 (mac64[arm] - Darwin 24.3.0 24D70)\n",
      "\n",
      "CPU model: Apple M1 Max\n",
      "Thread count: 10 physical cores, 10 logical processors, using up to 10 threads\n",
      "\n",
      "Optimize a model with 6 rows, 9 columns and 18 nonzeros\n",
      "Model fingerprint: 0xb343b6eb\n",
      "Coefficient statistics:\n",
      "  Matrix range     [1e+00, 1e+00]\n",
      "  Objective range  [1e+01, 8e+01]\n",
      "  Bounds range     [0e+00, 0e+00]\n",
      "  RHS range        [1e+00, 1e+00]\n",
      "Presolve time: 0.00s\n",
      "Presolved: 6 rows, 9 columns, 18 nonzeros\n",
      "\n",
      "Iteration    Objective       Primal Inf.    Dual Inf.      Time\n",
      "       0    4.6000000e+32   1.800000e+31   4.600000e+02      0s\n",
      "       5    1.9300000e+02   0.000000e+00   0.000000e+00      0s\n",
      "\n",
      "Solved in 5 iterations and 0.00 seconds (0.00 work units)\n",
      "Optimal objective  1.930000000e+02\n"
     ]
    }
   ],
   "source": [
    "# Run optimization engine\n",
    "m.optimize()\n",
    "\n"
   ]
  },
  {
   "cell_type": "code",
   "execution_count": 34,
   "metadata": {},
   "outputs": [
    {
     "name": "stdout",
     "output_type": "stream",
     "text": [
      "assign[Carlos,Tester] 1.0\n",
      "assign[Jose,Arquitecto] 1.0\n",
      "assign[Monica,Desarrollador] 1.0\n",
      "Puntuación Matching total:  193.0\n"
     ]
    }
   ],
   "source": [
    "# Display optimal values of decision variables\n",
    "for v in m.getVars():\n",
    "    if v.x > 1e-6:\n",
    "        print(v.varName, v.x)\n",
    "\n",
    "# Display optimal total matching score\n",
    "print('Puntuación Matching total: ', m.objVal)"
   ]
  }
 ],
 "metadata": {
  "kernelspec": {
   "display_name": "Python 3",
   "language": "python",
   "name": "python3"
  },
  "language_info": {
   "codemirror_mode": {
    "name": "ipython",
    "version": 3
   },
   "file_extension": ".py",
   "mimetype": "text/x-python",
   "name": "python",
   "nbconvert_exporter": "python",
   "pygments_lexer": "ipython3",
   "version": "3.13.2"
  }
 },
 "nbformat": 4,
 "nbformat_minor": 2
}
