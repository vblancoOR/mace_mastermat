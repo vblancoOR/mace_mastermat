{
 "cells": [
  {
   "cell_type": "markdown",
   "metadata": {},
   "source": [
    "## Bin Packing"
   ]
  },
  {
   "cell_type": "markdown",
   "metadata": {},
   "source": [
    "Dados un conjunto de $n$ objetos (cada uno con un peso) y $m$ contenedores (cada uno con una capacidad limitada dada), el objetivo es minimizar el número de contenedores a usar para cargar todos los objetos."
   ]
  },
  {
   "cell_type": "code",
   "execution_count": 18,
   "metadata": {},
   "outputs": [],
   "source": [
    "import numpy as np\n",
    "from gurobipy import Model, GRB, quicksum"
   ]
  },
  {
   "cell_type": "markdown",
   "metadata": {},
   "source": [
    "Generemos para un número de contenedores unos pesos aleatorios:"
   ]
  },
  {
   "cell_type": "code",
   "execution_count": 19,
   "metadata": {},
   "outputs": [],
   "source": [
    "np.random.seed(42)  # fijemos semilla\n",
    "n = 500  # numero de objetos\n",
    "C = 10  #  capacidad de los contenedores\n",
    "weights = np.random.randint(1, C // 2, size=n)  # pesos aleatorios\n",
    "m = n  # numero maximo de contenedores"
   ]
  },
  {
   "cell_type": "markdown",
   "metadata": {},
   "source": [
    "Modelemos el problema:"
   ]
  },
  {
   "cell_type": "code",
   "execution_count": null,
   "metadata": {},
   "outputs": [
    {
     "name": "stdout",
     "output_type": "stream",
     "text": [
      "Gurobi Optimizer version 12.0.1 build v12.0.1rc0 (mac64[arm] - Darwin 24.3.0 24D70)\n",
      "\n",
      "CPU model: Apple M1 Max\n",
      "Thread count: 10 physical cores, 10 logical processors, using up to 10 threads\n",
      "\n",
      "Optimize a model with 1000 rows, 250500 columns and 500500 nonzeros\n",
      "Model fingerprint: 0x33be4ee6\n",
      "Variable types: 0 continuous, 250500 integer (250500 binary)\n",
      "Coefficient statistics:\n",
      "  Matrix range     [1e+00, 1e+01]\n",
      "  Objective range  [1e+00, 1e+00]\n",
      "  Bounds range     [1e+00, 1e+00]\n",
      "  RHS range        [1e+00, 1e+00]\n",
      "Found heuristic solution: objective 310.0000000\n",
      "Presolve time: 0.45s\n",
      "Presolved: 1000 rows, 250500 columns, 500500 nonzeros\n",
      "Variable types: 0 continuous, 250500 integer (250500 binary)\n",
      "\n",
      "Use crossover to convert LP symmetric solution to basic solution...\n",
      "\n",
      "Root relaxation: objective 1.296000e+02, 250001 iterations, 0.39 seconds (0.43 work units)\n",
      "\n",
      "    Nodes    |    Current Node    |     Objective Bounds      |     Work\n",
      " Expl Unexpl |  Obj  Depth IntInf | Incumbent    BestBd   Gap | It/Node Time\n",
      "\n",
      "     0     0  129.60000    0    2  310.00000  129.60000  58.2%     -    1s\n",
      "H    0     0                     130.0000000  129.60000  0.31%     -    1s\n",
      "     0     0  129.60000    0    2  130.00000  129.60000  0.31%     -    1s\n",
      "\n",
      "Explored 1 nodes (252377 simplex iterations) in 1.27 seconds (2.26 work units)\n",
      "Thread count was 10 (of 10 available processors)\n",
      "\n",
      "Solution count 2: 130 310 \n",
      "\n",
      "Optimal solution found (tolerance 1.00e-04)\n",
      "Best objective 1.300000000000e+02, best bound 1.300000000000e+02, gap 0.0000%\n",
      "Tiempo 1:  1.273137092590332\n"
     ]
    }
   ],
   "source": [
    "model = Model(\"BinPacking1\")\n",
    "\n",
    "# Variables\n",
    "x = model.addVars(n, m, vtype=GRB.BINARY, name=\"x\") #x[i,j] = 1 si el objeto i se carga en el contenedor j\n",
    "y = model.addVars(m, vtype=GRB.BINARY, name=\"y\")# y[j] = 1 si se usa el contenedor j\n",
    "\n",
    "\n",
    "# Objetivo\n",
    "model.setObjective(quicksum(y[j] for j in range(m)), GRB.MINIMIZE)\n",
    "\n",
    "# Restricción 1: Cada objeto tiene que cargarse en un único contenedror\n",
    "for i in range(n):\n",
    "    model.addConstr(quicksum(x[i, j] for j in range(m)) == 1, name=f\"Objeto_{i}\")\n",
    "\n",
    "# Restriccion 2: Capacidades limitadas de los contenedores\n",
    "for j in range(m):\n",
    "    model.addConstr(quicksum(weights[i] * x[i, j] for i in range(n)) <= C * y[j], name=f\"Capacidad_{j}\")\n",
    "\n",
    "for j in range(1, m):\n",
    "    model.addConstr(y[j] <= y[j - 1], name=f\"Extra_{j}\")\n",
    "\n",
    "\n",
    "model.optimize()\n",
    "\n",
    "print(\"Tiempo 1: \", model.RunTime)"
   ]
  },
  {
   "cell_type": "code",
   "execution_count": null,
   "metadata": {},
   "outputs": [
    {
     "name": "stdout",
     "output_type": "stream",
     "text": [
      "Gurobi Optimizer version 12.0.1 build v12.0.1rc0 (mac64[arm] - Darwin 24.3.0 24D70)\n",
      "\n",
      "CPU model: Apple M1 Max\n",
      "Thread count: 10 physical cores, 10 logical processors, using up to 10 threads\n",
      "\n",
      "Optimize a model with 1499 rows, 250500 columns and 501498 nonzeros\n",
      "Model fingerprint: 0x6916adde\n",
      "Variable types: 0 continuous, 250500 integer (250500 binary)\n",
      "Coefficient statistics:\n",
      "  Matrix range     [1e+00, 1e+01]\n",
      "  Objective range  [1e+00, 1e+00]\n",
      "  Bounds range     [1e+00, 1e+00]\n",
      "  RHS range        [1e+00, 1e+00]\n",
      "Found heuristic solution: objective 500.0000000\n",
      "Presolve time: 0.75s\n",
      "Presolved: 1499 rows, 250500 columns, 501498 nonzeros\n",
      "Variable types: 0 continuous, 250500 integer (250500 binary)\n",
      "\n",
      "Use crossover to convert LP symmetric solution to basic solution...\n",
      "\n",
      "Root relaxation: objective 1.296000e+02, 245515 iterations, 1.40 seconds (3.38 work units)\n",
      "Total elapsed time = 5.08s (DegenMoves)\n",
      "\n",
      "    Nodes    |    Current Node    |     Objective Bounds      |     Work\n",
      " Expl Unexpl |  Obj  Depth IntInf | Incumbent    BestBd   Gap | It/Node Time\n",
      "\n",
      "     0     0  129.60000    0  235  500.00000  129.60000  74.1%     -    9s\n",
      "     0     0  130.00000    0   67  500.00000  130.00000  74.0%     -   10s\n",
      "H    0     0                     130.0000000  130.00000  0.00%     -   10s\n",
      "     0     0  130.00000    0   67  130.00000  130.00000  0.00%     -   10s\n",
      "\n",
      "Explored 1 nodes (332210 simplex iterations) in 10.31 seconds (24.24 work units)\n",
      "Thread count was 10 (of 10 available processors)\n",
      "\n",
      "Solution count 2: 130 500 \n",
      "\n",
      "Optimal solution found (tolerance 1.00e-04)\n",
      "Best objective 1.300000000000e+02, best bound 1.300000000000e+02, gap 0.0000%\n",
      "Tiempo 2:  10.315340995788574\n"
     ]
    }
   ],
   "source": [
    "model = Model(\"BinPacking2\")\n",
    "\n",
    "# Variables\n",
    "x = model.addVars(n, m, vtype=GRB.BINARY, name=\"x\") #x[i,j] = 1 si el objeto i se carga en el contenedor j\n",
    "y = model.addVars(m, vtype=GRB.BINARY, name=\"y\")# y[j] = 1 si se usa el contenedor j\n",
    "\n",
    "# Objetivo\n",
    "model.setObjective(quicksum(y[j] for j in range(m)), GRB.MINIMIZE)\n",
    "\n",
    "# Restricción 1: Cada objeto tiene que cargarse en un único contenedror\n",
    "for i in range(n):\n",
    "    model.addConstr(quicksum(x[i, j] for j in range(m)) == 1, name=f\"Objeto_{i}\")\n",
    "\n",
    "# Restriccion 2: Capacidades limitadas de los contenedores\n",
    "for j in range(m):\n",
    "    model.addConstr(quicksum(weights[i] * x[i, j] for i in range(n)) <= C * y[j], name=f\"Capacidad_{j}\")\n",
    "\n",
    "model.optimize()\n",
    "\n",
    "print(\"Tiempo 2: \", model.RunTime)\n",
    "\n",
    "\n",
    "\n",
    "\n",
    "\n"
   ]
  }
 ],
 "metadata": {
  "kernelspec": {
   "display_name": "Python 3",
   "language": "python",
   "name": "python3"
  },
  "language_info": {
   "codemirror_mode": {
    "name": "ipython",
    "version": 3
   },
   "file_extension": ".py",
   "mimetype": "text/x-python",
   "name": "python",
   "nbconvert_exporter": "python",
   "pygments_lexer": "ipython3",
   "version": "3.13.2"
  }
 },
 "nbformat": 4,
 "nbformat_minor": 2
}
